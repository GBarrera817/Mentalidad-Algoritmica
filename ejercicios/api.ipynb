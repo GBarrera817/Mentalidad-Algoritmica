{
 "metadata": {
  "language_info": {
   "codemirror_mode": {
    "name": "ipython",
    "version": 3
   },
   "file_extension": ".py",
   "mimetype": "text/x-python",
   "name": "python",
   "nbconvert_exporter": "python",
   "pygments_lexer": "ipython3",
   "version": "3.8.5-final"
  },
  "orig_nbformat": 2,
  "kernelspec": {
   "name": "Python 3.8.5 64-bit",
   "display_name": "Python 3.8.5 64-bit",
   "metadata": {
    "interpreter": {
     "hash": "31f2aee4e71d21fbe5cf8b01ff0e069b9275f58929596ceb00d14d90e3e16cd6"
    }
   }
  }
 },
 "nbformat": 4,
 "nbformat_minor": 2,
 "cells": [
  {
   "source": [
    "# Actividad\n",
    "- Para esta actividad, se debe "
   ],
   "cell_type": "markdown",
   "metadata": {}
  },
  {
   "cell_type": "code",
   "execution_count": 1,
   "metadata": {},
   "outputs": [],
   "source": [
    "import json\n",
    "import requests"
   ]
  },
  {
   "cell_type": "code",
   "execution_count": 2,
   "metadata": {},
   "outputs": [],
   "source": [
    "def peticion(method, url, payload=''):\n",
    "    payload = {}\n",
    "    #headers = {}\n",
    "\n",
    "    response = ''\n",
    "\n",
    "    if method == \"GET\" or method == \"POST\" or method == \"PUT\":\n",
    "        response = requests.request(method, url, data=payload)\n",
    "        print(response)\n",
    "        respuesta = json.loads(response.text)\n",
    "    elif method == \"DELETE\":\n",
    "        print(response)\n",
    "        \n",
    "    #print(response)\n",
    "    \n",
    "    return respuesta"
   ]
  },
  {
   "cell_type": "code",
   "execution_count": 3,
   "metadata": {
    "tags": []
   },
   "outputs": [
    {
     "output_type": "stream",
     "name": "stdout",
     "text": "<Response [200]>\n"
    },
    {
     "output_type": "execute_result",
     "data": {
      "text/plain": "{'page': 1,\n 'per_page': 6,\n 'total': 12,\n 'total_pages': 2,\n 'data': [{'id': 1,\n   'email': 'george.bluth@reqres.in',\n   'first_name': 'George',\n   'last_name': 'Bluth',\n   'avatar': 'https://s3.amazonaws.com/uifaces/faces/twitter/calebogden/128.jpg'},\n  {'id': 2,\n   'email': 'janet.weaver@reqres.in',\n   'first_name': 'Janet',\n   'last_name': 'Weaver',\n   'avatar': 'https://s3.amazonaws.com/uifaces/faces/twitter/josephstein/128.jpg'},\n  {'id': 3,\n   'email': 'emma.wong@reqres.in',\n   'first_name': 'Emma',\n   'last_name': 'Wong',\n   'avatar': 'https://s3.amazonaws.com/uifaces/faces/twitter/olegpogodaev/128.jpg'},\n  {'id': 4,\n   'email': 'eve.holt@reqres.in',\n   'first_name': 'Eve',\n   'last_name': 'Holt',\n   'avatar': 'https://s3.amazonaws.com/uifaces/faces/twitter/marcoramires/128.jpg'},\n  {'id': 5,\n   'email': 'charles.morris@reqres.in',\n   'first_name': 'Charles',\n   'last_name': 'Morris',\n   'avatar': 'https://s3.amazonaws.com/uifaces/faces/twitter/stephenmoon/128.jpg'},\n  {'id': 6,\n   'email': 'tracey.ramos@reqres.in',\n   'first_name': 'Tracey',\n   'last_name': 'Ramos',\n   'avatar': 'https://s3.amazonaws.com/uifaces/faces/twitter/bigmancho/128.jpg'}],\n 'ad': {'company': 'StatusCode Weekly',\n  'url': 'http://statuscode.org/',\n  'text': 'A weekly newsletter focusing on software development, infrastructure, the server, performance, and the stack end of things.'}}"
     },
     "metadata": {},
     "execution_count": 3
    }
   ],
   "source": [
    "url = 'https://reqres.in/api/users'\n",
    "\n",
    "peticion(\"GET\", url)"
   ]
  },
  {
   "cell_type": "code",
   "execution_count": null,
   "metadata": {},
   "outputs": [],
   "source": []
  }
 ]
}