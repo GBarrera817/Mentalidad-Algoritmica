{
  "nbformat": 4,
  "nbformat_minor": 0,
  "metadata": {
    "colab": {
      "name": "Untitled1.ipynb",
      "provenance": [],
      "collapsed_sections": []
    },
    "kernelspec": {
      "name": "python3",
      "display_name": "Python 3"
    }
  },
  "cells": [
    {
      "cell_type": "code",
      "metadata": {
        "id": "gTK7ivK_hIVt"
      },
      "source": [
        "import pandas as pd"
      ],
      "execution_count": null,
      "outputs": []
    },
    {
      "cell_type": "code",
      "metadata": {
        "id": "AkERWN0ui1S8"
      },
      "source": [
        "df = pd.read_csv('nations.csv')"
      ],
      "execution_count": null,
      "outputs": []
    },
    {
      "cell_type": "code",
      "metadata": {
        "id": "m3gvMAFOi9k_",
        "outputId": "b6618ff7-ffb9-43f5-9231-0328cf16e150",
        "colab": {
          "base_uri": "https://localhost:8080/",
          "height": 204
        }
      },
      "source": [
        "df.head()"
      ],
      "execution_count": null,
      "outputs": [
        {
          "output_type": "execute_result",
          "data": {
            "text/html": [
              "<div>\n",
              "<style scoped>\n",
              "    .dataframe tbody tr th:only-of-type {\n",
              "        vertical-align: middle;\n",
              "    }\n",
              "\n",
              "    .dataframe tbody tr th {\n",
              "        vertical-align: top;\n",
              "    }\n",
              "\n",
              "    .dataframe thead th {\n",
              "        text-align: right;\n",
              "    }\n",
              "</style>\n",
              "<table border=\"1\" class=\"dataframe\">\n",
              "  <thead>\n",
              "    <tr style=\"text-align: right;\">\n",
              "      <th></th>\n",
              "      <th>Unnamed: 0</th>\n",
              "      <th>country</th>\n",
              "      <th>region</th>\n",
              "      <th>gdp</th>\n",
              "      <th>school</th>\n",
              "      <th>adfert</th>\n",
              "      <th>chldmort</th>\n",
              "      <th>life</th>\n",
              "      <th>pop</th>\n",
              "      <th>urban</th>\n",
              "      <th>femlab</th>\n",
              "      <th>literacy</th>\n",
              "      <th>co2</th>\n",
              "      <th>gini</th>\n",
              "    </tr>\n",
              "  </thead>\n",
              "  <tbody>\n",
              "    <tr>\n",
              "      <th>0</th>\n",
              "      <td>1</td>\n",
              "      <td>Algeria</td>\n",
              "      <td>Africa</td>\n",
              "      <td>7300.399902</td>\n",
              "      <td>6.716667</td>\n",
              "      <td>7.300000</td>\n",
              "      <td>34.75</td>\n",
              "      <td>72.316666</td>\n",
              "      <td>34172236</td>\n",
              "      <td>64.933334</td>\n",
              "      <td>0.4522</td>\n",
              "      <td>72.599998</td>\n",
              "      <td>15.0</td>\n",
              "      <td>NaN</td>\n",
              "    </tr>\n",
              "    <tr>\n",
              "      <th>1</th>\n",
              "      <td>2</td>\n",
              "      <td>Benin</td>\n",
              "      <td>Africa</td>\n",
              "      <td>1338.800049</td>\n",
              "      <td>3.100000</td>\n",
              "      <td>111.699997</td>\n",
              "      <td>122.75</td>\n",
              "      <td>54.733334</td>\n",
              "      <td>8237634</td>\n",
              "      <td>41.000000</td>\n",
              "      <td>0.8482</td>\n",
              "      <td>41.700001</td>\n",
              "      <td>1.2</td>\n",
              "      <td>NaN</td>\n",
              "    </tr>\n",
              "    <tr>\n",
              "      <th>2</th>\n",
              "      <td>3</td>\n",
              "      <td>Botswana</td>\n",
              "      <td>Africa</td>\n",
              "      <td>12307.400391</td>\n",
              "      <td>8.600000</td>\n",
              "      <td>52.099998</td>\n",
              "      <td>60.25</td>\n",
              "      <td>52.250000</td>\n",
              "      <td>1941233</td>\n",
              "      <td>59.250000</td>\n",
              "      <td>0.8870</td>\n",
              "      <td>84.099998</td>\n",
              "      <td>9.2</td>\n",
              "      <td>NaN</td>\n",
              "    </tr>\n",
              "    <tr>\n",
              "      <th>3</th>\n",
              "      <td>4</td>\n",
              "      <td>Burkina Faso</td>\n",
              "      <td>Africa</td>\n",
              "      <td>1063.400024</td>\n",
              "      <td>1.300000</td>\n",
              "      <td>124.800003</td>\n",
              "      <td>170.50</td>\n",
              "      <td>53.783333</td>\n",
              "      <td>15308383</td>\n",
              "      <td>23.583334</td>\n",
              "      <td>0.8584</td>\n",
              "      <td>23.600000</td>\n",
              "      <td>0.2</td>\n",
              "      <td>NaN</td>\n",
              "    </tr>\n",
              "    <tr>\n",
              "      <th>4</th>\n",
              "      <td>5</td>\n",
              "      <td>Burundi</td>\n",
              "      <td>Africa</td>\n",
              "      <td>349.200012</td>\n",
              "      <td>2.483333</td>\n",
              "      <td>18.600000</td>\n",
              "      <td>168.50</td>\n",
              "      <td>48.866665</td>\n",
              "      <td>7821783</td>\n",
              "      <td>10.250000</td>\n",
              "      <td>1.0344</td>\n",
              "      <td>66.599998</td>\n",
              "      <td>0.1</td>\n",
              "      <td>33.299999</td>\n",
              "    </tr>\n",
              "  </tbody>\n",
              "</table>\n",
              "</div>"
            ],
            "text/plain": [
              "   Unnamed: 0       country  region  ...   literacy   co2       gini\n",
              "0           1       Algeria  Africa  ...  72.599998  15.0        NaN\n",
              "1           2         Benin  Africa  ...  41.700001   1.2        NaN\n",
              "2           3      Botswana  Africa  ...  84.099998   9.2        NaN\n",
              "3           4  Burkina Faso  Africa  ...  23.600000   0.2        NaN\n",
              "4           5       Burundi  Africa  ...  66.599998   0.1  33.299999\n",
              "\n",
              "[5 rows x 14 columns]"
            ]
          },
          "metadata": {
            "tags": []
          },
          "execution_count": 3
        }
      ]
    },
    {
      "cell_type": "code",
      "metadata": {
        "id": "0bxoY-hQpLeM",
        "outputId": "78255ecd-494e-47af-b04e-72bf701aa2e2",
        "colab": {
          "base_uri": "https://localhost:8080/",
          "height": 34
        }
      },
      "source": [
        "type(df)"
      ],
      "execution_count": null,
      "outputs": [
        {
          "output_type": "execute_result",
          "data": {
            "text/plain": [
              "pandas.core.frame.DataFrame"
            ]
          },
          "metadata": {
            "tags": []
          },
          "execution_count": 9
        }
      ]
    },
    {
      "cell_type": "code",
      "metadata": {
        "id": "LufvMtMdi-oA",
        "outputId": "f5b4f059-e757-437c-b237-7ca6691cc18e",
        "colab": {
          "base_uri": "https://localhost:8080/",
          "height": 34
        }
      },
      "source": [
        "df.shape"
      ],
      "execution_count": null,
      "outputs": [
        {
          "output_type": "execute_result",
          "data": {
            "text/plain": [
              "(194, 14)"
            ]
          },
          "metadata": {
            "tags": []
          },
          "execution_count": 5
        }
      ]
    },
    {
      "cell_type": "code",
      "metadata": {
        "id": "6R-oXi-XlrHj",
        "outputId": "8a450ed9-572e-4414-fced-ca03809e8888",
        "colab": {
          "base_uri": "https://localhost:8080/",
          "height": 85
        }
      },
      "source": [
        "# saber el nombre de las columnas\n",
        "\n",
        "df.columns"
      ],
      "execution_count": null,
      "outputs": [
        {
          "output_type": "execute_result",
          "data": {
            "text/plain": [
              "Index(['Unnamed: 0', 'country', 'region', 'gdp', 'school', 'adfert',\n",
              "       'chldmort', 'life', 'pop', 'urban', 'femlab', 'literacy', 'co2',\n",
              "       'gini'],\n",
              "      dtype='object')"
            ]
          },
          "metadata": {
            "tags": []
          },
          "execution_count": 6
        }
      ]
    },
    {
      "cell_type": "code",
      "metadata": {
        "id": "OR9aB0zvocgk",
        "outputId": "c347a8c1-b4c0-4152-86c0-901e93763602",
        "colab": {
          "base_uri": "https://localhost:8080/",
          "height": 221
        }
      },
      "source": [
        "df['region']"
      ],
      "execution_count": null,
      "outputs": [
        {
          "output_type": "execute_result",
          "data": {
            "text/plain": [
              "0       Africa\n",
              "1       Africa\n",
              "2       Africa\n",
              "3       Africa\n",
              "4       Africa\n",
              "        ...   \n",
              "189    Oceania\n",
              "190    Oceania\n",
              "191    Oceania\n",
              "192    Oceania\n",
              "193    Oceania\n",
              "Name: region, Length: 194, dtype: object"
            ]
          },
          "metadata": {
            "tags": []
          },
          "execution_count": 7
        }
      ]
    },
    {
      "cell_type": "code",
      "metadata": {
        "id": "oPwgBW9ooj45",
        "outputId": "b4141008-a4a7-4623-c13f-52eede5cd282",
        "colab": {
          "base_uri": "https://localhost:8080/",
          "height": 34
        }
      },
      "source": [
        "region = df['region']\n",
        "type(region)"
      ],
      "execution_count": null,
      "outputs": [
        {
          "output_type": "execute_result",
          "data": {
            "text/plain": [
              "pandas.core.series.Series"
            ]
          },
          "metadata": {
            "tags": []
          },
          "execution_count": 8
        }
      ]
    },
    {
      "cell_type": "code",
      "metadata": {
        "id": "m5XZsdHSpIv5"
      },
      "source": [
        "# borrar columna\n",
        "\n",
        "df = df.drop(columns=['Unnamed: 0'])"
      ],
      "execution_count": null,
      "outputs": []
    },
    {
      "cell_type": "code",
      "metadata": {
        "id": "ogQMmpRApnj8",
        "outputId": "06cfa3df-33ea-4313-dca2-38eb4c721836",
        "colab": {
          "base_uri": "https://localhost:8080/",
          "height": 204
        }
      },
      "source": [
        "df.head()"
      ],
      "execution_count": null,
      "outputs": [
        {
          "output_type": "execute_result",
          "data": {
            "text/html": [
              "<div>\n",
              "<style scoped>\n",
              "    .dataframe tbody tr th:only-of-type {\n",
              "        vertical-align: middle;\n",
              "    }\n",
              "\n",
              "    .dataframe tbody tr th {\n",
              "        vertical-align: top;\n",
              "    }\n",
              "\n",
              "    .dataframe thead th {\n",
              "        text-align: right;\n",
              "    }\n",
              "</style>\n",
              "<table border=\"1\" class=\"dataframe\">\n",
              "  <thead>\n",
              "    <tr style=\"text-align: right;\">\n",
              "      <th></th>\n",
              "      <th>country</th>\n",
              "      <th>region</th>\n",
              "      <th>gdp</th>\n",
              "      <th>school</th>\n",
              "      <th>adfert</th>\n",
              "      <th>chldmort</th>\n",
              "      <th>life</th>\n",
              "      <th>pop</th>\n",
              "      <th>urban</th>\n",
              "      <th>femlab</th>\n",
              "      <th>literacy</th>\n",
              "      <th>co2</th>\n",
              "      <th>gini</th>\n",
              "    </tr>\n",
              "  </thead>\n",
              "  <tbody>\n",
              "    <tr>\n",
              "      <th>0</th>\n",
              "      <td>Algeria</td>\n",
              "      <td>Africa</td>\n",
              "      <td>7300.399902</td>\n",
              "      <td>6.716667</td>\n",
              "      <td>7.300000</td>\n",
              "      <td>34.75</td>\n",
              "      <td>72.316666</td>\n",
              "      <td>34172236</td>\n",
              "      <td>64.933334</td>\n",
              "      <td>0.4522</td>\n",
              "      <td>72.599998</td>\n",
              "      <td>15.0</td>\n",
              "      <td>NaN</td>\n",
              "    </tr>\n",
              "    <tr>\n",
              "      <th>1</th>\n",
              "      <td>Benin</td>\n",
              "      <td>Africa</td>\n",
              "      <td>1338.800049</td>\n",
              "      <td>3.100000</td>\n",
              "      <td>111.699997</td>\n",
              "      <td>122.75</td>\n",
              "      <td>54.733334</td>\n",
              "      <td>8237634</td>\n",
              "      <td>41.000000</td>\n",
              "      <td>0.8482</td>\n",
              "      <td>41.700001</td>\n",
              "      <td>1.2</td>\n",
              "      <td>NaN</td>\n",
              "    </tr>\n",
              "    <tr>\n",
              "      <th>2</th>\n",
              "      <td>Botswana</td>\n",
              "      <td>Africa</td>\n",
              "      <td>12307.400391</td>\n",
              "      <td>8.600000</td>\n",
              "      <td>52.099998</td>\n",
              "      <td>60.25</td>\n",
              "      <td>52.250000</td>\n",
              "      <td>1941233</td>\n",
              "      <td>59.250000</td>\n",
              "      <td>0.8870</td>\n",
              "      <td>84.099998</td>\n",
              "      <td>9.2</td>\n",
              "      <td>NaN</td>\n",
              "    </tr>\n",
              "    <tr>\n",
              "      <th>3</th>\n",
              "      <td>Burkina Faso</td>\n",
              "      <td>Africa</td>\n",
              "      <td>1063.400024</td>\n",
              "      <td>1.300000</td>\n",
              "      <td>124.800003</td>\n",
              "      <td>170.50</td>\n",
              "      <td>53.783333</td>\n",
              "      <td>15308383</td>\n",
              "      <td>23.583334</td>\n",
              "      <td>0.8584</td>\n",
              "      <td>23.600000</td>\n",
              "      <td>0.2</td>\n",
              "      <td>NaN</td>\n",
              "    </tr>\n",
              "    <tr>\n",
              "      <th>4</th>\n",
              "      <td>Burundi</td>\n",
              "      <td>Africa</td>\n",
              "      <td>349.200012</td>\n",
              "      <td>2.483333</td>\n",
              "      <td>18.600000</td>\n",
              "      <td>168.50</td>\n",
              "      <td>48.866665</td>\n",
              "      <td>7821783</td>\n",
              "      <td>10.250000</td>\n",
              "      <td>1.0344</td>\n",
              "      <td>66.599998</td>\n",
              "      <td>0.1</td>\n",
              "      <td>33.299999</td>\n",
              "    </tr>\n",
              "  </tbody>\n",
              "</table>\n",
              "</div>"
            ],
            "text/plain": [
              "        country  region           gdp  ...   literacy   co2       gini\n",
              "0       Algeria  Africa   7300.399902  ...  72.599998  15.0        NaN\n",
              "1         Benin  Africa   1338.800049  ...  41.700001   1.2        NaN\n",
              "2      Botswana  Africa  12307.400391  ...  84.099998   9.2        NaN\n",
              "3  Burkina Faso  Africa   1063.400024  ...  23.600000   0.2        NaN\n",
              "4       Burundi  Africa    349.200012  ...  66.599998   0.1  33.299999\n",
              "\n",
              "[5 rows x 13 columns]"
            ]
          },
          "metadata": {
            "tags": []
          },
          "execution_count": 11
        }
      ]
    },
    {
      "cell_type": "code",
      "metadata": {
        "id": "wyPyxrOKppVt",
        "outputId": "4308da8e-799c-49c0-e475-2196274853bd",
        "colab": {
          "base_uri": "https://localhost:8080/",
          "height": 119
        }
      },
      "source": [
        "# contar la frecuencia de valores dentro de una columna\n",
        "\n",
        "df['region'].value_counts()"
      ],
      "execution_count": null,
      "outputs": [
        {
          "output_type": "execute_result",
          "data": {
            "text/plain": [
              "Africa      52\n",
              "Asia        49\n",
              "Europe      43\n",
              "Americas    35\n",
              "Oceania     15\n",
              "Name: region, dtype: int64"
            ]
          },
          "metadata": {
            "tags": []
          },
          "execution_count": 12
        }
      ]
    },
    {
      "cell_type": "code",
      "metadata": {
        "id": "OrZUVsSsqRbD",
        "outputId": "9f6caee3-1fc0-40ad-c617-43515d8ff25a",
        "colab": {
          "base_uri": "https://localhost:8080/",
          "height": 51
        }
      },
      "source": [
        "df['region'].isna().value_counts()"
      ],
      "execution_count": null,
      "outputs": [
        {
          "output_type": "execute_result",
          "data": {
            "text/plain": [
              "False    194\n",
              "Name: region, dtype: int64"
            ]
          },
          "metadata": {
            "tags": []
          },
          "execution_count": 15
        }
      ]
    },
    {
      "cell_type": "code",
      "metadata": {
        "id": "_rR25UnVqUGi",
        "outputId": "ffb2b576-f312-4986-b568-194f5b80c84e",
        "colab": {
          "base_uri": "https://localhost:8080/",
          "height": 68
        }
      },
      "source": [
        "df['gini'].isna().value_counts()"
      ],
      "execution_count": null,
      "outputs": [
        {
          "output_type": "execute_result",
          "data": {
            "text/plain": [
              "True     113\n",
              "False     81\n",
              "Name: gini, dtype: int64"
            ]
          },
          "metadata": {
            "tags": []
          },
          "execution_count": 16
        }
      ]
    },
    {
      "cell_type": "code",
      "metadata": {
        "id": "ekhXGFo-qk-C"
      },
      "source": [
        "df_subset = df.loc[:, ['country', 'region']]"
      ],
      "execution_count": null,
      "outputs": []
    },
    {
      "cell_type": "code",
      "metadata": {
        "id": "UBCrM6gerbmb",
        "outputId": "561c73e3-d955-4e30-d288-6eac1333a5d0",
        "colab": {
          "base_uri": "https://localhost:8080/",
          "height": 34
        }
      },
      "source": [
        "df_subset.shape"
      ],
      "execution_count": null,
      "outputs": [
        {
          "output_type": "execute_result",
          "data": {
            "text/plain": [
              "(194, 2)"
            ]
          },
          "metadata": {
            "tags": []
          },
          "execution_count": 18
        }
      ]
    },
    {
      "cell_type": "code",
      "metadata": {
        "id": "2hHd6qOOr2ny"
      },
      "source": [
        "# hacer filtros\n",
        "\n",
        "df_americas = df[df['region'] == 'Americas'] "
      ],
      "execution_count": null,
      "outputs": []
    }
  ]
}