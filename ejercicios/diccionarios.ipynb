{
 "metadata": {
  "language_info": {
   "codemirror_mode": {
    "name": "ipython",
    "version": 3
   },
   "file_extension": ".py",
   "mimetype": "text/x-python",
   "name": "python",
   "nbconvert_exporter": "python",
   "pygments_lexer": "ipython3",
   "version": "3.8.6-final"
  },
  "orig_nbformat": 2,
  "kernelspec": {
   "name": "Python 3.8.6 64-bit",
   "display_name": "Python 3.8.6 64-bit",
   "metadata": {
    "interpreter": {
     "hash": "31f2aee4e71d21fbe5cf8b01ff0e069b9275f58929596ceb00d14d90e3e16cd6"
    }
   }
  }
 },
 "nbformat": 4,
 "nbformat_minor": 2,
 "cells": [
  {
   "cell_type": "code",
   "execution_count": 14,
   "metadata": {
    "tags": []
   },
   "outputs": [
    {
     "output_type": "stream",
     "name": "stdout",
     "text": "€\n€\n"
    }
   ],
   "source": [
    "# Escribir \n",
    "\n",
    "divisas = {'Euro':'€', 'Dollar':'$', 'Yen':'¥'} \n",
    "\n",
    "entrada = input(\"Ingrese una divisa: \").capitalize()\n",
    "\n",
    "if entrada in divisas:\n",
    "    print(divisas[entrada])\n",
    "    print(divisas.get(entrada))\n",
    "else:\n",
    "    print(\"No se encuentra la divisa que buscas\")"
   ]
  },
  {
   "cell_type": "code",
   "execution_count": 19,
   "metadata": {
    "tags": []
   },
   "outputs": [
    {
     "output_type": "stream",
     "name": "stdout",
     "text": "victor tiene 40 años, vive en las primaveras, renca y su numero de telefono es 34567890\n"
    }
   ],
   "source": [
    "# Escribir un programa que pregunte al usuario su nombre, edad, direccion y teléfono y lo guarde en un diccionario. Después debe mostrar por pantalla el mensaje:\n",
    "# <nombre> tiene <edad> años, vive en <direccion> y numero de telefono es <telefono>\n",
    "\n",
    "d = {}\n",
    "\n",
    "d['nombre'] = input(\"¿Como te llamas?: \")\n",
    "d['edad'] = int(input(\"¿Cuantos años tienes?: \"))\n",
    "d['direccion'] = input(\"¿Cuál es tu dirección?: \")\n",
    "d['telefono'] = int(input(\"¿Cuál es tu numero de telefono?: \"))\n",
    "\n",
    "print(d.get('nombre') + \" tiene \" + str(d.get('edad')) + \" años, vive en \" + d.get('direccion') + \" y su numero de telefono es \" + str(d.get('telefono')))"
   ]
  },
  {
   "cell_type": "code",
   "execution_count": 32,
   "metadata": {
    "tags": []
   },
   "outputs": [
    {
     "output_type": "stream",
     "name": "stdout",
     "text": "{'nombre': 'gaby'}\n{'nombre': 'gaby', 'edad': '26'}\n"
    }
   ],
   "source": [
    "# Escribir un programa que cree un diccionario vacío y lo vaya llenando con infornación sobre una persona (Por ejemplo: nombre, edad, sexo, teléfono, correo\n",
    "# electrónico, etc.) que se le pida al usuario. Cada vez que se añada un nuevo dato debe imprimirse el contenido del diccionario.\n",
    "\n",
    "datos = {}\n",
    "seguir = 'si'\n",
    "\n",
    "while seguir == 'si':\n",
    "    clave = input(\"¿Qué dato quieres introducir?: \")\n",
    "    if clave != '':\n",
    "        valor = input(clave + \":\")\n",
    "        datos[clave] = valor\n",
    "        print(datos)\n",
    "    seguir = input(\"¿Quieres añadir más información? (si/no): \")\n",
    "    \n",
    "    if seguir == 'no':\n",
    "        print(\"Muchas gracias por compartir tu info :)\")"
   ]
  },
  {
   "cell_type": "code",
   "execution_count": 1,
   "metadata": {},
   "outputs": [
    {
     "output_type": "error",
     "ename": "SyntaxError",
     "evalue": "invalid syntax (<ipython-input-1-48088c4b60d4>, line 4)",
     "traceback": [
      "\u001b[0;36m  File \u001b[0;32m\"<ipython-input-1-48088c4b60d4>\"\u001b[0;36m, line \u001b[0;32m4\u001b[0m\n\u001b[0;31m    'telefono':123456\u001b[0m\n\u001b[0m    ^\u001b[0m\n\u001b[0;31mSyntaxError\u001b[0m\u001b[0;31m:\u001b[0m invalid syntax\n"
     ]
    }
   ],
   "source": [
    "dic = {\n",
    "    'nombre':'gaby',\n",
    "    'edad':26,\n",
    "    'telefono':123456\n",
    "}\n",
    "\n",
    "numero = 3\n",
    "\n",
    "dic.get('edad') * numero\n",
    "\n"
   ]
  },
  {
   "cell_type": "code",
   "execution_count": null,
   "metadata": {},
   "outputs": [],
   "source": []
  }
 ]
}