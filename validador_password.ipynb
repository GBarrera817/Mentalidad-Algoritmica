{
 "metadata": {
  "language_info": {
   "codemirror_mode": {
    "name": "ipython",
    "version": 3
   },
   "file_extension": ".py",
   "mimetype": "text/x-python",
   "name": "python",
   "nbconvert_exporter": "python",
   "pygments_lexer": "ipython3",
   "version": "3.8.5-final"
  },
  "orig_nbformat": 2,
  "kernelspec": {
   "name": "python38364bit78a13ba9d5f0408497ab39daea8ff667",
   "display_name": "Python 3.8.3 64-bit"
  }
 },
 "nbformat": 4,
 "nbformat_minor": 2,
 "cells": [
  {
   "cell_type": "code",
   "execution_count": 2,
   "metadata": {
    "tags": []
   },
   "outputs": [
    {
     "output_type": "stream",
     "name": "stdout",
     "text": "Logeado\n"
    }
   ],
   "source": [
    "pass_usuario = input(\"Ingresa contrasena: \")\n",
    "pass_temporal = ''\n",
    "\n",
    "while pass_usuario != pass_temporal:\n",
    "    pass_temporal = input(\"Ingresa nuevamente tu contrasenia: \")\n",
    "\n",
    "    if pass_temporal == pass_usuario:\n",
    "        print(\"Logeado\")\n",
    "    \n"
   ]
  },
  {
   "cell_type": "code",
   "execution_count": null,
   "metadata": {},
   "outputs": [],
   "source": []
  }
 ]
}